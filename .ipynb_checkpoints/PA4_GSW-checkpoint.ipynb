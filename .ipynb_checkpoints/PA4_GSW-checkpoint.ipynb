{
 "cells": [
  {
   "cell_type": "markdown",
   "id": "d981a421-2a2b-4c7a-ba7b-6eb900e4709f",
   "metadata": {
    "tags": []
   },
   "source": [
    "# Programming Assignment 4\n",
    "---\n",
    "**Author:** Garrett Ward  \n",
    "**Version:** 1.0  \n",
    "**Semester:** Spring 2024 \n",
    "\n",
    "This *notebook* contains my solution(s) to **Programming Assignment 4**"
   ]
  },
  {
   "cell_type": "markdown",
   "id": "f6cf2d80-1d75-45b4-a426-3cc415a005ec",
   "metadata": {},
   "source": [
    "### Problem 1 - Swapping List Elements"
   ]
  },
  {
   "cell_type": "code",
   "execution_count": 36,
   "id": "2cf017e7-9373-4c46-a61e-696e03f82154",
   "metadata": {
    "tags": []
   },
   "outputs": [
    {
     "name": "stdout",
     "output_type": "stream",
     "text": [
      "Original List: [19, 82, 24, 74, 60, 95, 81, 30, 58, 75]\n",
      "Swapped List: [75, 82, 24, 74, 60, 95, 81, 30, 58, 19]\n"
     ]
    }
   ],
   "source": [
    "import random\n",
    "\n",
    "def swap_first_last(lst):\n",
    "    if len(lst) < 2:\n",
    "        return lst\n",
    "    \n",
    "    lst_copy = lst[:]\n",
    "    lst_copy[0], lst_copy[-1] = lst_copy[-1], lst_copy[0]  \n",
    "    return lst_copy\n",
    "\n",
    "random_list = [random.randint(1, 100) for _ in range(10)]\n",
    "\n",
    "print(f\"Original List:\", random_list)\n",
    "swapped_list = swap_first_last(random_list)\n",
    "print(f\"Swapped List:\", swapped_list)"
   ]
  },
  {
   "cell_type": "markdown",
   "id": "1cf7c7d6-38ad-465b-babd-04772343b7f4",
   "metadata": {},
   "source": [
    "### Problem 2 - Encoding Data"
   ]
  },
  {
   "cell_type": "code",
   "execution_count": 37,
   "id": "f7be1d79-0733-49bc-b523-ce4f879129a8",
   "metadata": {
    "tags": []
   },
   "outputs": [
    {
     "name": "stdout",
     "output_type": "stream",
     "text": [
      "Original List: [86, 18, 27, 91, 23, 31, 71, 31, 51, 41]\n",
      "Encoded List: [1, 1, -1, -1, -1, -1, -1, -1, -1, -1]\n"
     ]
    }
   ],
   "source": [
    "import random\n",
    "\n",
    "encode = lambda lst: ([1 if num % 2 == 0 else -1 for num in lst],)\n",
    "\n",
    "random_list = [random.randint(1, 100) for _ in range(10)]\n",
    "\n",
    "print(f\"Original List:\", random_list)\n",
    "print(f\"Encoded List:\", encode(random_list)[0])"
   ]
  },
  {
   "cell_type": "markdown",
   "id": "04b1c911-5bbe-4cf7-abc9-0a51254d3ae6",
   "metadata": {},
   "source": [
    "### Problem 3 - Rotating Tuples"
   ]
  },
  {
   "cell_type": "code",
   "execution_count": 35,
   "id": "5ab11c0c-4331-459b-a4ef-a63bcca2ac62",
   "metadata": {
    "tags": []
   },
   "outputs": [
    {
     "name": "stdout",
     "output_type": "stream",
     "text": [
      "Original Tuple: ('John F.', 'Kennedy', 41)\n",
      "Rotated Tuple: (41, 'John F.', 'Kennedy')\n"
     ]
    }
   ],
   "source": [
    "def rotate(tpl):\n",
    "    a, b, c = tpl[2], tpl[0], tpl[1]\n",
    "    return a, b, c\n",
    "\n",
    "original_tuple = ('John F.', 'Kennedy', 41)\n",
    "rotated_tuple = rotate(original_tuple)\n",
    "print(f\"Original Tuple:\", original_tuple)\n",
    "print(f\"Rotated Tuple:\", rotated_tuple)"
   ]
  },
  {
   "cell_type": "markdown",
   "id": "b2ecb18f-eac4-40dc-a1eb-d58409587f8e",
   "metadata": {},
   "source": [
    "### Problem 4 - Creating a List of Tuples"
   ]
  },
  {
   "cell_type": "code",
   "execution_count": 38,
   "id": "dea045c1-cb5e-403e-a153-f8cdf18fe3f1",
   "metadata": {
    "tags": []
   },
   "outputs": [
    {
     "name": "stdout",
     "output_type": "stream",
     "text": [
      "[('William', 'McKinely', 25), ('Theodore', 'Roosevelt', 26), ('William Howard', 'Taft', 27), ('Woodrow', 'Wilson', 28), ('Warren G.', 'Harding', 29), ('Calvin', 'Coolidge', 30), ('Herbert', 'Hoover', 31), ('Franklin D.', 'Roosevelt', 32), ('Harry S.', 'Truman', 33), ('Dwight D.', 'Eisenhower', 34), ('John F.', 'Kennedy', 35), ('Lyndon B.', 'Johnson', 36), ('Richard', 'Nixon', 37), ('Gerald R.', 'Ford', 38), ('Jimmy', 'Carter', 39), ('Ronald', 'Reagan', 40), ('George H.W.', 'Bush', 41), ('Bill', 'Clinton', 42)]\n"
     ]
    }
   ],
   "source": [
    "def combine_lists(first_names, last_names, numbers):\n",
    "    combined_list = list(zip(first_names, last_names, numbers))\n",
    "    return combined_list\n",
    "\n",
    "first_names = [\n",
    "    \"William\", \"Theodore\", \"William Howard\", \"Woodrow\", \"Warren G.\", \"Calvin\", \"Herbert\", \"Franklin D.\", \"Harry S.\",\"Dwight D.\", \"John F.\", \"Lyndon B.\", \"Richard\", \"Gerald R.\", \"Jimmy\", \"Ronald\", \"George H.W.\", \"Bill\", \n",
    "]\n",
    "\n",
    "last_names = [\n",
    "    \"McKinely\", \"Roosevelt\", \"Taft\", \"Wilson\", \"Harding\", \"Coolidge\", \"Hoover\", \"Roosevelt\", \"Truman\", \"Eisenhower\", \"Kennedy\", \"Johnson\", \"Nixon\", \"Ford\", \"Carter\", \"Reagan\", \"Bush\", \"Clinton\"\n",
    "]\n",
    "\n",
    "numbers = list(range(25, 43))\n",
    "\n",
    "\n",
    "presidents_info = combine_lists(first_names, last_names, numbers)\n",
    "\n",
    "print(presidents_info)"
   ]
  },
  {
   "cell_type": "markdown",
   "id": "eeb93332-e109-4523-b7ac-a78595bf0fb7",
   "metadata": {},
   "source": [
    "### Problem 5 - Finding Perfect Numbers"
   ]
  },
  {
   "cell_type": "code",
   "execution_count": 39,
   "id": "1adb62eb-c1c3-4115-bf0e-5ac9bfc5fc64",
   "metadata": {
    "tags": []
   },
   "outputs": [
    {
     "name": "stdout",
     "output_type": "stream",
     "text": [
      "Perfect Numbers: [6, 28]\n"
     ]
    }
   ],
   "source": [
    "def perfect_number(n):\n",
    "    sum_divisors = 0\n",
    "    for i in range(1, n // 2 + 1):\n",
    "        if n % i == 0:\n",
    "            sum_divisors += i\n",
    "    return sum_divisors == n\n",
    "\n",
    "numbers = list(range(1, 101))\n",
    "\n",
    "perfect_numbers = list(filter(perfect_number, numbers))\n",
    "\n",
    "print(f\"Perfect Numbers:\", perfect_numbers)"
   ]
  },
  {
   "cell_type": "code",
   "execution_count": null,
   "id": "6f1bf31e-570e-4460-b3d3-bea84cefa988",
   "metadata": {},
   "outputs": [],
   "source": []
  }
 ],
 "metadata": {
  "kernelspec": {
   "display_name": "Python 3 (ipykernel)",
   "language": "python",
   "name": "python3"
  },
  "language_info": {
   "codemirror_mode": {
    "name": "ipython",
    "version": 3
   },
   "file_extension": ".py",
   "mimetype": "text/x-python",
   "name": "python",
   "nbconvert_exporter": "python",
   "pygments_lexer": "ipython3",
   "version": "3.11.5"
  }
 },
 "nbformat": 4,
 "nbformat_minor": 5
}
